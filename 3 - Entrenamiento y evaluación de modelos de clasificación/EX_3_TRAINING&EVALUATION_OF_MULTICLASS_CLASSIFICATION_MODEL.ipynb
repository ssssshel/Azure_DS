{
 "cells": [
  {
   "cell_type": "markdown",
   "metadata": {},
   "source": [
    "# Multiclass Classification\n",
    "\n",
    "In the last notebook, we looked at binary classification. This  works well when the data observations belong to one of two classes or categories, such as \"True\" or \"False\". When the data can be categorized into more than two classes, you must use a multiclass classification algorithm.\n",
    "\n",
    "Multiclass classification can be thought of as a combination of multiple binary classifiers. There are two ways in which you approach the problem:\n",
    "\n",
    "- **One vs Rest (OVR)**, in which a classifier is created for each possible class value, with a positive outcome for cases where the prediction is *this* class, and negative predictions for cases where the prediction is any other class. A classification problem with four possible shape classes (*square*, *circle*, *triangle*, *hexagon*) would require four classifiers that predict:\n",
    "    - *square* or not\n",
    "    - *circle* or not\n",
    "    - *triangle* or not\n",
    "    - *hexagon* or not\n",
    "    \n",
    "- **One vs One (OVO)**, in which a classifier for each possible pair of classes is created. The classification problem with four shape classes would require the following binary classifiers:\n",
    "    - *square* or *circle*\n",
    "    - *square* or *triangle*\n",
    "    - *square* or *hexagon*\n",
    "    - *circle* or *triangle*\n",
    "    - *circle* or *hexagon*\n",
    "    - *triangle* or *hexagon*\n",
    "\n",
    "In both approaches, the overall model that combines the classifiers generates a vector of predictions in which the probabilities generated from the individual binary classifiers are used to determine which class to predict.\n",
    "\n",
    "Fortunately, in most machine learning frameworks, including scikit-learn, implementing a multiclass classification model is not significantly more complex than binary classification - and in most cases, the estimators used for binary classification implicitly support multiclass classification by abstracting an OVR algorithm, an OVO algorithm, or by allowing a choice of either.\n",
    "\n",
    "> **More Information**: To learn more about estimator support for multiclass classification in Scikit-Learn, see the [Scikit-Learn documentation](https://scikit-learn.org/stable/modules/multiclass.html).\n",
    "\n",
    "### Explore the data\n",
    "\n",
    "Let's start by examining a dataset that contains observations of multiple classes. We'll use a dataset that contains observations of three different species of penguin.\n",
    "\n",
    "> **Citation**: The penguins dataset used in the this exercise is a subset of data collected and made available by [Dr. Kristen\n",
    "Gorman](https://www.uaf.edu/cfos/people/faculty/detail/kristen-gorman.php)\n",
    "and the [Palmer Station, Antarctica LTER](https://pal.lternet.edu/), a\n",
    "member of the [Long Term Ecological Research\n",
    "Network](https://lternet.edu/)."
   ]
  },
  {
   "cell_type": "code",
   "execution_count": null,
   "metadata": {},
   "outputs": [],
   "source": [
    "import pandas as pd\n",
    "\n",
    "# load the training dataset\n",
    "!wget https://raw.githubusercontent.com/MicrosoftDocs/mslearn-introduction-to-machine-learning/main/Data/ml-basics/penguins.csv\n",
    "penguins = pd.read_csv('penguins.csv')\n",
    "\n",
    "# Display a random sample of 10 observations\n",
    "sample = penguins.sample(10)\n",
    "sample"
   ]
  },
  {
   "cell_type": "markdown",
   "metadata": {},
   "source": [
    " \t    CulmenLength \tCulmenDepth \tFlipperLength \tBodyMass \tSpecies\n",
    "\t247 \t50.8 \t        15.7 \t        226.0 \t        5200.0 \t  1\n",
    "\t81 \t  42.9 \t        17.6 \t        196.0 \t        4700.0 \t  0\n",
    "\t310   49.7 \t        18.6 \t        195.0 \t        3600.0 \t  2\n",
    "\t207   45.0 \t        15.4 \t        220.0 \t        5050.0 \t  1\n",
    "\t69 \t  41.8 \t        19.4 \t        198.0 \t        4450.0 \t  0\n",
    "\t197   43.6 \t        13.9 \t        217.0 \t        4900.0 \t  1\n",
    "\t32 \t  39.5 \t        17.8 \t        188.0 \t        3300.0 \t  0\n",
    "\t221   50.7 \t        15.0 \t        223.0 \t        5550.0 \t  1\n",
    "\t204   45.1 \t        14.4 \t        210.0 \t        4400.0 \t  1\n",
    "\t334   50.2 \t        18.8 \t        202.0 \t        3800.0 \t  2"
   ]
  },
  {
   "cell_type": "markdown",
   "metadata": {},
   "source": [
    "The dataset contains the following columns:\n",
    "* **CulmenLength**: The length in mm of the penguin's culmen (bill).\n",
    "* **CulmenDepth**: The depth in mm of the penguin's culmen.\n",
    "* **FlipperLength**: The length in mm of the penguin's flipper.\n",
    "* **BodyMass**: The body mass of the penguin in grams.\n",
    "* **Species**: An integer value that represents the species of the penguin.\n",
    "\n",
    "The **Species** column is the label we want to train a model to predict. The dataset includes three possible species, which are encoded as 0, 1, and 2. The actual species names are revealed by the code below:"
   ]
  },
  {
   "cell_type": "code",
   "execution_count": null,
   "metadata": {},
   "outputs": [],
   "source": [
    "penguin_classes = ['Adelie', 'Gentoo', 'Chinstrap']\n",
    "print(sample.columns[0:5].values, 'SpeciesName')\n",
    "for index, row in penguins.sample(10).iterrows():\n",
    "    print('[',row[0], row[1], row[2], row[3], int(row[4]),']',penguin_classes[int(row[4])])"
   ]
  },
  {
   "cell_type": "markdown",
   "metadata": {},
   "source": [
    "    ['CulmenLength' 'CulmenDepth' 'FlipperLength' 'BodyMass' 'Species'] SpeciesName\n",
    "    [ 48.4 16.3 220.0 5400.0 1 ] Gentoo\n",
    "    [ 34.0 17.1 185.0 3400.0 0 ] Adelie\n",
    "    [ 51.3 14.2 218.0 5300.0 1 ] Gentoo\n",
    "    [ 51.7 20.3 194.0 3775.0 2 ] Chinstrap\n",
    "    [ 41.1 19.0 182.0 3425.0 0 ] Adelie\n",
    "    [ 44.1 18.0 210.0 4000.0 0 ] Adelie\n",
    "    [ 49.5 16.1 224.0 5650.0 1 ] Gentoo\n",
    "    [ 41.7 14.7 210.0 4700.0 1 ] Gentoo\n",
    "    [ 49.2 15.2 221.0 6300.0 1 ] Gentoo\n",
    "    [ 38.8 20.0 190.0 3950.0 0 ] Adelie"
   ]
  },
  {
   "cell_type": "markdown",
   "metadata": {},
   "source": [
    "Now that we know what the features and labels in the data represent, let's explore the dataset. First, let's see if there are any missing (null) values."
   ]
  },
  {
   "cell_type": "code",
   "execution_count": null,
   "metadata": {},
   "outputs": [],
   "source": [
    "# Count the number of null values for each column\n",
    "penguins.isnull().sum()"
   ]
  },
  {
   "cell_type": "markdown",
   "metadata": {},
   "source": [
    "CulmenLength     2\n",
    "CulmenDepth      2\n",
    "FlipperLength    2\n",
    "BodyMass         2\n",
    "Species          0\n",
    "dtype: int64"
   ]
  },
  {
   "cell_type": "code",
   "execution_count": null,
   "metadata": {},
   "outputs": [],
   "source": [
    "# Show rows containing nulls\n",
    "penguins[penguins.isnull().any(axis=1)]"
   ]
  },
  {
   "cell_type": "markdown",
   "metadata": {},
   "source": [
    " \t    \tCulmenLength \tCulmenDepth \tFlipperLength \tBodyMass \t\tSpecies\n",
    "\t3 \t  NaN \t        NaN \t        NaN \t          NaN \t   \t\t0\n",
    "\t271 \tNaN \t        NaN \t        NaN \t          NaN \t   \t\t1"
   ]
  },
  {
   "cell_type": "markdown",
   "metadata": {},
   "source": [
    "There are two rows that contain no feature values at all (NaN stands for \"not a number\"), so these won't be useful in training a model. Let's discard them from the dataset."
   ]
  },
  {
   "cell_type": "code",
   "execution_count": null,
   "metadata": {},
   "outputs": [],
   "source": [
    "# Drop rows containing NaN values\n",
    "penguins=penguins.dropna()\n",
    "#Confirm there are now no nulls\n",
    "penguins.isnull().sum()\n"
   ]
  },
  {
   "cell_type": "markdown",
   "metadata": {},
   "source": [
    "    CulmenLength     0\n",
    "    CulmenDepth      0\n",
    "    FlipperLength    0\n",
    "    BodyMass         0\n",
    "    Species          0\n",
    "    dtype: int64"
   ]
  }
 ],
 "metadata": {
  "kernelspec": {
   "display_name": "Python 3.9.13 64-bit",
   "language": "python",
   "name": "python3"
  },
  "language_info": {
   "name": "python",
   "version": "3.9.13"
  },
  "orig_nbformat": 4,
  "vscode": {
   "interpreter": {
    "hash": "f13baad3d70416a794a9ad2b29e7f938b0cb4bb83d2e11d388b95830c728084f"
   }
  }
 },
 "nbformat": 4,
 "nbformat_minor": 2
}
